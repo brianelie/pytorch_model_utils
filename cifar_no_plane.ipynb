{
  "cells": [
    {
      "cell_type": "markdown",
      "metadata": {
        "id": "Y0yvhDlXDV9k"
      },
      "source": [
        "# CIFAR10 Bayesian Deep Learning with Class Removal\n",
        "\n",
        "We will attempt to perform classification on a neural network trained on CIFAR9 (no airplanes). Then we will add the airplane class back into the dataset and see how the inference changes!"
      ]
    },
    {
      "cell_type": "markdown",
      "metadata": {
        "id": "avPyPF3krs25"
      },
      "source": [
        "## Imports and Setup"
      ]
    },
    {
      "cell_type": "code",
      "execution_count": 2,
      "metadata": {
        "id": "ocIvAadEEwi5"
      },
      "outputs": [],
      "source": [
        "import numpy as np\n",
        "\n",
        "import matplotlib.pyplot as plt\n",
        "\n",
        "import torch\n",
        "import torch.nn as nn\n",
        "from torchvision import models, transforms, datasets\n",
        "from bayesian_torch.models.dnn_to_bnn import dnn_to_bnn\n",
        "from torchmetrics import Accuracy\n",
        "\n",
        "from utils import train, learning_curves, evaluate, uncertainty_quantification"
      ]
    },
    {
      "cell_type": "markdown",
      "metadata": {
        "id": "lqvrQXourugF"
      },
      "source": [
        "## Dataset Creation"
      ]
    },
    {
      "cell_type": "code",
      "execution_count": 3,
      "metadata": {
        "colab": {
          "base_uri": "https://localhost:8080/"
        },
        "id": "L6_Qtg8SFGW9",
        "outputId": "4c90d2c5-873a-4fe7-a449-6450f6605a15"
      },
      "outputs": [
        {
          "name": "stdout",
          "output_type": "stream",
          "text": [
            "Downloading https://www.cs.toronto.edu/~kriz/cifar-10-python.tar.gz to data\\cifar-10-python.tar.gz\n"
          ]
        },
        {
          "name": "stderr",
          "output_type": "stream",
          "text": [
            " 90%|████████▉ | 152666112/170498071 [00:18<00:02, 8313851.14it/s] \n"
          ]
        },
        {
          "ename": "KeyboardInterrupt",
          "evalue": "",
          "output_type": "error",
          "traceback": [
            "\u001b[1;31m---------------------------------------------------------------------------\u001b[0m",
            "\u001b[1;31mKeyboardInterrupt\u001b[0m                         Traceback (most recent call last)",
            "Cell \u001b[1;32mIn[3], line 9\u001b[0m\n\u001b[0;32m      6\u001b[0m val_trans \u001b[39m=\u001b[39m transforms\u001b[39m.\u001b[39mCompose([transforms\u001b[39m.\u001b[39mToTensor(), \n\u001b[0;32m      7\u001b[0m                                 transforms\u001b[39m.\u001b[39mNormalize((\u001b[39m0.5\u001b[39m,), (\u001b[39m0.5\u001b[39m,))])\n\u001b[0;32m      8\u001b[0m root \u001b[39m=\u001b[39m \u001b[39m'\u001b[39m\u001b[39mdata\u001b[39m\u001b[39m'\u001b[39m\n\u001b[1;32m----> 9\u001b[0m train_ds \u001b[39m=\u001b[39m datasets\u001b[39m.\u001b[39;49mCIFAR10(root\u001b[39m=\u001b[39;49mroot, train\u001b[39m=\u001b[39;49m\u001b[39mTrue\u001b[39;49;00m, transform\u001b[39m=\u001b[39;49mtrain_trans, download\u001b[39m=\u001b[39;49m\u001b[39mTrue\u001b[39;49;00m)\n\u001b[0;32m     10\u001b[0m test_ds \u001b[39m=\u001b[39m datasets\u001b[39m.\u001b[39mCIFAR10(root\u001b[39m=\u001b[39mroot, train\u001b[39m=\u001b[39m\u001b[39mFalse\u001b[39;00m, transform\u001b[39m=\u001b[39mval_trans, download\u001b[39m=\u001b[39m\u001b[39mTrue\u001b[39;00m)\n\u001b[0;32m     12\u001b[0m classes \u001b[39m=\u001b[39m train_ds\u001b[39m.\u001b[39mclasses\n",
            "File \u001b[1;32mc:\\Users\\User\\anaconda3\\envs\\bayesian42\\lib\\site-packages\\torchvision\\datasets\\cifar.py:65\u001b[0m, in \u001b[0;36mCIFAR10.__init__\u001b[1;34m(self, root, train, transform, target_transform, download)\u001b[0m\n\u001b[0;32m     62\u001b[0m \u001b[39mself\u001b[39m\u001b[39m.\u001b[39mtrain \u001b[39m=\u001b[39m train  \u001b[39m# training set or test set\u001b[39;00m\n\u001b[0;32m     64\u001b[0m \u001b[39mif\u001b[39;00m download:\n\u001b[1;32m---> 65\u001b[0m     \u001b[39mself\u001b[39;49m\u001b[39m.\u001b[39;49mdownload()\n\u001b[0;32m     67\u001b[0m \u001b[39mif\u001b[39;00m \u001b[39mnot\u001b[39;00m \u001b[39mself\u001b[39m\u001b[39m.\u001b[39m_check_integrity():\n\u001b[0;32m     68\u001b[0m     \u001b[39mraise\u001b[39;00m \u001b[39mRuntimeError\u001b[39;00m(\u001b[39m\"\u001b[39m\u001b[39mDataset not found or corrupted. You can use download=True to download it\u001b[39m\u001b[39m\"\u001b[39m)\n",
            "File \u001b[1;32mc:\\Users\\User\\anaconda3\\envs\\bayesian42\\lib\\site-packages\\torchvision\\datasets\\cifar.py:139\u001b[0m, in \u001b[0;36mCIFAR10.download\u001b[1;34m(self)\u001b[0m\n\u001b[0;32m    137\u001b[0m     \u001b[39mprint\u001b[39m(\u001b[39m\"\u001b[39m\u001b[39mFiles already downloaded and verified\u001b[39m\u001b[39m\"\u001b[39m)\n\u001b[0;32m    138\u001b[0m     \u001b[39mreturn\u001b[39;00m\n\u001b[1;32m--> 139\u001b[0m download_and_extract_archive(\u001b[39mself\u001b[39;49m\u001b[39m.\u001b[39;49murl, \u001b[39mself\u001b[39;49m\u001b[39m.\u001b[39;49mroot, filename\u001b[39m=\u001b[39;49m\u001b[39mself\u001b[39;49m\u001b[39m.\u001b[39;49mfilename, md5\u001b[39m=\u001b[39;49m\u001b[39mself\u001b[39;49m\u001b[39m.\u001b[39;49mtgz_md5)\n",
            "File \u001b[1;32mc:\\Users\\User\\anaconda3\\envs\\bayesian42\\lib\\site-packages\\torchvision\\datasets\\utils.py:434\u001b[0m, in \u001b[0;36mdownload_and_extract_archive\u001b[1;34m(url, download_root, extract_root, filename, md5, remove_finished)\u001b[0m\n\u001b[0;32m    431\u001b[0m \u001b[39mif\u001b[39;00m \u001b[39mnot\u001b[39;00m filename:\n\u001b[0;32m    432\u001b[0m     filename \u001b[39m=\u001b[39m os\u001b[39m.\u001b[39mpath\u001b[39m.\u001b[39mbasename(url)\n\u001b[1;32m--> 434\u001b[0m download_url(url, download_root, filename, md5)\n\u001b[0;32m    436\u001b[0m archive \u001b[39m=\u001b[39m os\u001b[39m.\u001b[39mpath\u001b[39m.\u001b[39mjoin(download_root, filename)\n\u001b[0;32m    437\u001b[0m \u001b[39mprint\u001b[39m(\u001b[39mf\u001b[39m\u001b[39m\"\u001b[39m\u001b[39mExtracting \u001b[39m\u001b[39m{\u001b[39;00marchive\u001b[39m}\u001b[39;00m\u001b[39m to \u001b[39m\u001b[39m{\u001b[39;00mextract_root\u001b[39m}\u001b[39;00m\u001b[39m\"\u001b[39m)\n",
            "File \u001b[1;32mc:\\Users\\User\\anaconda3\\envs\\bayesian42\\lib\\site-packages\\torchvision\\datasets\\utils.py:144\u001b[0m, in \u001b[0;36mdownload_url\u001b[1;34m(url, root, filename, md5, max_redirect_hops)\u001b[0m\n\u001b[0;32m    142\u001b[0m \u001b[39mtry\u001b[39;00m:\n\u001b[0;32m    143\u001b[0m     \u001b[39mprint\u001b[39m(\u001b[39m\"\u001b[39m\u001b[39mDownloading \u001b[39m\u001b[39m\"\u001b[39m \u001b[39m+\u001b[39m url \u001b[39m+\u001b[39m \u001b[39m\"\u001b[39m\u001b[39m to \u001b[39m\u001b[39m\"\u001b[39m \u001b[39m+\u001b[39m fpath)\n\u001b[1;32m--> 144\u001b[0m     _urlretrieve(url, fpath)\n\u001b[0;32m    145\u001b[0m \u001b[39mexcept\u001b[39;00m (urllib\u001b[39m.\u001b[39merror\u001b[39m.\u001b[39mURLError, \u001b[39mOSError\u001b[39;00m) \u001b[39mas\u001b[39;00m e:  \u001b[39m# type: ignore[attr-defined]\u001b[39;00m\n\u001b[0;32m    146\u001b[0m     \u001b[39mif\u001b[39;00m url[:\u001b[39m5\u001b[39m] \u001b[39m==\u001b[39m \u001b[39m\"\u001b[39m\u001b[39mhttps\u001b[39m\u001b[39m\"\u001b[39m:\n",
            "File \u001b[1;32mc:\\Users\\User\\anaconda3\\envs\\bayesian42\\lib\\site-packages\\torchvision\\datasets\\utils.py:48\u001b[0m, in \u001b[0;36m_urlretrieve\u001b[1;34m(url, filename, chunk_size)\u001b[0m\n\u001b[0;32m     46\u001b[0m \u001b[39mdef\u001b[39;00m \u001b[39m_urlretrieve\u001b[39m(url: \u001b[39mstr\u001b[39m, filename: \u001b[39mstr\u001b[39m, chunk_size: \u001b[39mint\u001b[39m \u001b[39m=\u001b[39m \u001b[39m1024\u001b[39m \u001b[39m*\u001b[39m \u001b[39m32\u001b[39m) \u001b[39m-\u001b[39m\u001b[39m>\u001b[39m \u001b[39mNone\u001b[39;00m:\n\u001b[0;32m     47\u001b[0m     \u001b[39mwith\u001b[39;00m urllib\u001b[39m.\u001b[39mrequest\u001b[39m.\u001b[39murlopen(urllib\u001b[39m.\u001b[39mrequest\u001b[39m.\u001b[39mRequest(url, headers\u001b[39m=\u001b[39m{\u001b[39m\"\u001b[39m\u001b[39mUser-Agent\u001b[39m\u001b[39m\"\u001b[39m: USER_AGENT})) \u001b[39mas\u001b[39;00m response:\n\u001b[1;32m---> 48\u001b[0m         _save_response_content(\u001b[39miter\u001b[39;49m(\u001b[39mlambda\u001b[39;49;00m: response\u001b[39m.\u001b[39;49mread(chunk_size), \u001b[39mb\u001b[39;49m\u001b[39m\"\u001b[39;49m\u001b[39m\"\u001b[39;49m), filename, length\u001b[39m=\u001b[39;49mresponse\u001b[39m.\u001b[39;49mlength)\n",
            "File \u001b[1;32mc:\\Users\\User\\anaconda3\\envs\\bayesian42\\lib\\site-packages\\torchvision\\datasets\\utils.py:37\u001b[0m, in \u001b[0;36m_save_response_content\u001b[1;34m(content, destination, length)\u001b[0m\n\u001b[0;32m     31\u001b[0m \u001b[39mdef\u001b[39;00m \u001b[39m_save_response_content\u001b[39m(\n\u001b[0;32m     32\u001b[0m     content: Iterator[\u001b[39mbytes\u001b[39m],\n\u001b[0;32m     33\u001b[0m     destination: \u001b[39mstr\u001b[39m,\n\u001b[0;32m     34\u001b[0m     length: Optional[\u001b[39mint\u001b[39m] \u001b[39m=\u001b[39m \u001b[39mNone\u001b[39;00m,\n\u001b[0;32m     35\u001b[0m ) \u001b[39m-\u001b[39m\u001b[39m>\u001b[39m \u001b[39mNone\u001b[39;00m:\n\u001b[0;32m     36\u001b[0m     \u001b[39mwith\u001b[39;00m \u001b[39mopen\u001b[39m(destination, \u001b[39m\"\u001b[39m\u001b[39mwb\u001b[39m\u001b[39m\"\u001b[39m) \u001b[39mas\u001b[39;00m fh, tqdm(total\u001b[39m=\u001b[39mlength) \u001b[39mas\u001b[39;00m pbar:\n\u001b[1;32m---> 37\u001b[0m         \u001b[39mfor\u001b[39;00m chunk \u001b[39min\u001b[39;00m content:\n\u001b[0;32m     38\u001b[0m             \u001b[39m# filter out keep-alive new chunks\u001b[39;00m\n\u001b[0;32m     39\u001b[0m             \u001b[39mif\u001b[39;00m \u001b[39mnot\u001b[39;00m chunk:\n\u001b[0;32m     40\u001b[0m                 \u001b[39mcontinue\u001b[39;00m\n",
            "File \u001b[1;32mc:\\Users\\User\\anaconda3\\envs\\bayesian42\\lib\\site-packages\\torchvision\\datasets\\utils.py:48\u001b[0m, in \u001b[0;36m_urlretrieve.<locals>.<lambda>\u001b[1;34m()\u001b[0m\n\u001b[0;32m     46\u001b[0m \u001b[39mdef\u001b[39;00m \u001b[39m_urlretrieve\u001b[39m(url: \u001b[39mstr\u001b[39m, filename: \u001b[39mstr\u001b[39m, chunk_size: \u001b[39mint\u001b[39m \u001b[39m=\u001b[39m \u001b[39m1024\u001b[39m \u001b[39m*\u001b[39m \u001b[39m32\u001b[39m) \u001b[39m-\u001b[39m\u001b[39m>\u001b[39m \u001b[39mNone\u001b[39;00m:\n\u001b[0;32m     47\u001b[0m     \u001b[39mwith\u001b[39;00m urllib\u001b[39m.\u001b[39mrequest\u001b[39m.\u001b[39murlopen(urllib\u001b[39m.\u001b[39mrequest\u001b[39m.\u001b[39mRequest(url, headers\u001b[39m=\u001b[39m{\u001b[39m\"\u001b[39m\u001b[39mUser-Agent\u001b[39m\u001b[39m\"\u001b[39m: USER_AGENT})) \u001b[39mas\u001b[39;00m response:\n\u001b[1;32m---> 48\u001b[0m         _save_response_content(\u001b[39miter\u001b[39m(\u001b[39mlambda\u001b[39;00m: response\u001b[39m.\u001b[39;49mread(chunk_size), \u001b[39mb\u001b[39m\u001b[39m\"\u001b[39m\u001b[39m\"\u001b[39m), filename, length\u001b[39m=\u001b[39mresponse\u001b[39m.\u001b[39mlength)\n",
            "File \u001b[1;32mc:\\Users\\User\\anaconda3\\envs\\bayesian42\\lib\\http\\client.py:465\u001b[0m, in \u001b[0;36mHTTPResponse.read\u001b[1;34m(self, amt)\u001b[0m\n\u001b[0;32m    462\u001b[0m \u001b[39mif\u001b[39;00m \u001b[39mself\u001b[39m\u001b[39m.\u001b[39mlength \u001b[39mis\u001b[39;00m \u001b[39mnot\u001b[39;00m \u001b[39mNone\u001b[39;00m \u001b[39mand\u001b[39;00m amt \u001b[39m>\u001b[39m \u001b[39mself\u001b[39m\u001b[39m.\u001b[39mlength:\n\u001b[0;32m    463\u001b[0m     \u001b[39m# clip the read to the \"end of response\"\u001b[39;00m\n\u001b[0;32m    464\u001b[0m     amt \u001b[39m=\u001b[39m \u001b[39mself\u001b[39m\u001b[39m.\u001b[39mlength\n\u001b[1;32m--> 465\u001b[0m s \u001b[39m=\u001b[39m \u001b[39mself\u001b[39;49m\u001b[39m.\u001b[39;49mfp\u001b[39m.\u001b[39;49mread(amt)\n\u001b[0;32m    466\u001b[0m \u001b[39mif\u001b[39;00m \u001b[39mnot\u001b[39;00m s \u001b[39mand\u001b[39;00m amt:\n\u001b[0;32m    467\u001b[0m     \u001b[39m# Ideally, we would raise IncompleteRead if the content-length\u001b[39;00m\n\u001b[0;32m    468\u001b[0m     \u001b[39m# wasn't satisfied, but it might break compatibility.\u001b[39;00m\n\u001b[0;32m    469\u001b[0m     \u001b[39mself\u001b[39m\u001b[39m.\u001b[39m_close_conn()\n",
            "File \u001b[1;32mc:\\Users\\User\\anaconda3\\envs\\bayesian42\\lib\\socket.py:705\u001b[0m, in \u001b[0;36mSocketIO.readinto\u001b[1;34m(self, b)\u001b[0m\n\u001b[0;32m    703\u001b[0m \u001b[39mwhile\u001b[39;00m \u001b[39mTrue\u001b[39;00m:\n\u001b[0;32m    704\u001b[0m     \u001b[39mtry\u001b[39;00m:\n\u001b[1;32m--> 705\u001b[0m         \u001b[39mreturn\u001b[39;00m \u001b[39mself\u001b[39;49m\u001b[39m.\u001b[39;49m_sock\u001b[39m.\u001b[39;49mrecv_into(b)\n\u001b[0;32m    706\u001b[0m     \u001b[39mexcept\u001b[39;00m timeout:\n\u001b[0;32m    707\u001b[0m         \u001b[39mself\u001b[39m\u001b[39m.\u001b[39m_timeout_occurred \u001b[39m=\u001b[39m \u001b[39mTrue\u001b[39;00m\n",
            "File \u001b[1;32mc:\\Users\\User\\anaconda3\\envs\\bayesian42\\lib\\ssl.py:1274\u001b[0m, in \u001b[0;36mSSLSocket.recv_into\u001b[1;34m(self, buffer, nbytes, flags)\u001b[0m\n\u001b[0;32m   1270\u001b[0m     \u001b[39mif\u001b[39;00m flags \u001b[39m!=\u001b[39m \u001b[39m0\u001b[39m:\n\u001b[0;32m   1271\u001b[0m         \u001b[39mraise\u001b[39;00m \u001b[39mValueError\u001b[39;00m(\n\u001b[0;32m   1272\u001b[0m           \u001b[39m\"\u001b[39m\u001b[39mnon-zero flags not allowed in calls to recv_into() on \u001b[39m\u001b[39m%s\u001b[39;00m\u001b[39m\"\u001b[39m \u001b[39m%\u001b[39m\n\u001b[0;32m   1273\u001b[0m           \u001b[39mself\u001b[39m\u001b[39m.\u001b[39m\u001b[39m__class__\u001b[39m)\n\u001b[1;32m-> 1274\u001b[0m     \u001b[39mreturn\u001b[39;00m \u001b[39mself\u001b[39;49m\u001b[39m.\u001b[39;49mread(nbytes, buffer)\n\u001b[0;32m   1275\u001b[0m \u001b[39melse\u001b[39;00m:\n\u001b[0;32m   1276\u001b[0m     \u001b[39mreturn\u001b[39;00m \u001b[39msuper\u001b[39m()\u001b[39m.\u001b[39mrecv_into(buffer, nbytes, flags)\n",
            "File \u001b[1;32mc:\\Users\\User\\anaconda3\\envs\\bayesian42\\lib\\ssl.py:1130\u001b[0m, in \u001b[0;36mSSLSocket.read\u001b[1;34m(self, len, buffer)\u001b[0m\n\u001b[0;32m   1128\u001b[0m \u001b[39mtry\u001b[39;00m:\n\u001b[0;32m   1129\u001b[0m     \u001b[39mif\u001b[39;00m buffer \u001b[39mis\u001b[39;00m \u001b[39mnot\u001b[39;00m \u001b[39mNone\u001b[39;00m:\n\u001b[1;32m-> 1130\u001b[0m         \u001b[39mreturn\u001b[39;00m \u001b[39mself\u001b[39;49m\u001b[39m.\u001b[39;49m_sslobj\u001b[39m.\u001b[39;49mread(\u001b[39mlen\u001b[39;49m, buffer)\n\u001b[0;32m   1131\u001b[0m     \u001b[39melse\u001b[39;00m:\n\u001b[0;32m   1132\u001b[0m         \u001b[39mreturn\u001b[39;00m \u001b[39mself\u001b[39m\u001b[39m.\u001b[39m_sslobj\u001b[39m.\u001b[39mread(\u001b[39mlen\u001b[39m)\n",
            "\u001b[1;31mKeyboardInterrupt\u001b[0m: "
          ]
        }
      ],
      "source": [
        "train_trans = transforms.Compose([transforms.ToTensor(), \n",
        "                                  transforms.Normalize((0.5,), (0.5,)),\n",
        "                                  transforms.RandomCrop(32, padding=4, padding_mode='reflect'), \n",
        "                                  transforms.RandomHorizontalFlip(), ])\n",
        "\n",
        "val_trans = transforms.Compose([transforms.ToTensor(), \n",
        "                                transforms.Normalize((0.5,), (0.5,))])\n",
        "root = '../data'\n",
        "train_ds = datasets.CIFAR10(root=root, train=True, transform=train_trans, download=True)\n",
        "test_ds = datasets.CIFAR10(root=root, train=False, transform=val_trans, download=True)\n",
        "\n",
        "classes = train_ds.classes\n",
        "print(classes)\n",
        "\n",
        "exclude_list = ['airplane']\n",
        "exclude_label = [train_ds.class_to_idx[n] for n in exclude_list] # name to index\n",
        "# Returns all indices in the dataset with the labels in exclude_label\n",
        "# The output is a one-element tuple, so we add [0] at the end\n",
        "include_idx = list(np.where(np.isin(train_ds.targets, exclude_label, invert=True))[0])\n",
        "val_include_idx = list(np.where(np.isin(test_ds.targets, exclude_label, invert=True))[0])\n",
        "\n",
        "# Train and Validate are used in the training process. The full validation set is used for uncertainty quantification\n",
        "train_ds = torch.utils.data.Subset(train_ds, include_idx)\n",
        "val_ds = torch.utils.data.Subset(test_ds, val_include_idx)"
      ]
    },
    {
      "cell_type": "code",
      "execution_count": null,
      "metadata": {
        "id": "4_518pEJGTeb"
      },
      "outputs": [
        {
          "ename": "",
          "evalue": "",
          "output_type": "error",
          "traceback": [
            "\u001b[1;31mRunning cells with 'bayesian42' requires the ipykernel package.\n",
            "\u001b[1;31mRun the following command to install 'ipykernel' into the Python environment. \n",
            "\u001b[1;31mCommand: 'conda install -n bayesian42 ipykernel --update-deps --force-reinstall'"
          ]
        }
      ],
      "source": [
        "batch_size=256\n",
        "lr = 1e-3\n",
        "total_classes = len(classes)\n",
        "\n",
        "# Create Dataloaders\n",
        "train_loader = torch.utils.data.DataLoader(\n",
        "                dataset=train_ds,\n",
        "                batch_size=batch_size,\n",
        "                shuffle=True)\n",
        "val_loader = torch.utils.data.DataLoader(\n",
        "                dataset=val_ds,\n",
        "                batch_size=batch_size,\n",
        "                shuffle=False)\n",
        "test_loader = torch.utils.data.DataLoader(\n",
        "                dataset=test_ds,\n",
        "                batch_size=batch_size,\n",
        "                shuffle=False)\n",
        "\n",
        "dataloads = {'train':train_loader,'val':val_loader,'test':test_loader}"
      ]
    },
    {
      "cell_type": "markdown",
      "metadata": {
        "id": "zGAlkm3ssLhd"
      },
      "source": [
        "## Visualize the Training Images"
      ]
    },
    {
      "cell_type": "code",
      "execution_count": null,
      "metadata": {
        "id": "JGHRMy_9JYnO"
      },
      "outputs": [
        {
          "ename": "",
          "evalue": "",
          "output_type": "error",
          "traceback": [
            "\u001b[1;31mRunning cells with 'bayesian42' requires the ipykernel package.\n",
            "\u001b[1;31mRun the following command to install 'ipykernel' into the Python environment. \n",
            "\u001b[1;31mCommand: 'conda install -n bayesian42 ipykernel --update-deps --force-reinstall'"
          ]
        }
      ],
      "source": [
        "def imshow(inp, ax, title=None):\n",
        "    \"\"\"imshow for tensor\n",
        "\n",
        "    Args:\n",
        "        inp (torch tensor image): Input image\n",
        "        title (str, optional): title for image. Defaults to None.\n",
        "    \"\"\"\n",
        "    # Put channels last for matplotlib\n",
        "    inp = inp.numpy().transpose((1, 2, 0))\n",
        "    mean = np.array([0.5, 0.5, 0.5])\n",
        "    std = np.array([0.5, 0.5, 0.5])\n",
        "    # Reverse normalize\n",
        "    inp = std * inp + mean\n",
        "    inp = np.clip(inp, 0, 1)\n",
        "    ax.imshow(inp)\n",
        "    if title is not None:\n",
        "        ax.set_title(title)"
      ]
    },
    {
      "cell_type": "code",
      "execution_count": null,
      "metadata": {
        "colab": {
          "base_uri": "https://localhost:8080/",
          "height": 329
        },
        "id": "yq4CFCgQJZOH",
        "outputId": "6afbac79-4a43-487c-f12e-817b9ed7ac27"
      },
      "outputs": [
        {
          "ename": "",
          "evalue": "",
          "output_type": "error",
          "traceback": [
            "\u001b[1;31mRunning cells with 'bayesian42' requires the ipykernel package.\n",
            "\u001b[1;31mRun the following command to install 'ipykernel' into the Python environment. \n",
            "\u001b[1;31mCommand: 'conda install -n bayesian42 ipykernel --update-deps --force-reinstall'"
          ]
        }
      ],
      "source": [
        "fig, axes = plt.subplots(3,4, figsize=(5,5))\n",
        "for i in range(12):\n",
        "    ax = axes.ravel()[i]\n",
        "    # Don't show classes that we excluded\n",
        "    img, true_class = train_ds[i]\n",
        "    name = classes[true_class]\n",
        "    imshow(img, ax, name)\n",
        "    ax.axis('off')\n",
        "    \n",
        "fig.suptitle('Sample Training Images')\n",
        "fig.subplots_adjust(top=0.88)\n",
        "plt.show()"
      ]
    },
    {
      "cell_type": "markdown",
      "metadata": {
        "id": "xL10ssYfsbgD"
      },
      "source": [
        "## Build Model\n",
        "\n",
        "We use a ResNet18 base model here. We are using default ImageNet weights with a 10 output node classifier head. To create the Flipout model, we use Bayesian Torch and their \"dnn_to_bnn\" function. "
      ]
    },
    {
      "cell_type": "code",
      "execution_count": null,
      "metadata": {
        "colab": {
          "base_uri": "https://localhost:8080/",
          "height": 1000,
          "referenced_widgets": [
            "403d6d0d06c6408581d854f61738a289",
            "2ea17891ce2449b7a7653337b222abcf",
            "44037b9f0ae34f4ab6b49a7c97bcb6c0",
            "47af57f9d16942148619ce4bb9760fc1",
            "2069673efdd34f5aafec44bc69f28220",
            "cfea154951eb4d289d42fde84e5883ae",
            "1d2c1436bc674608a01bf91120131a25",
            "82f516fe3cba4fc4801d0dd658ae4c01",
            "dc68e0e4d090441c8cdca334ab2c86bd",
            "c30753aaa46c46cebb93799459b8f7ad",
            "3ab5dd609a5745b1bf75efd766515ee9"
          ]
        },
        "id": "veuKr0JkEzaL",
        "outputId": "83891f57-0581-4639-ea75-6a9c1a634baf"
      },
      "outputs": [
        {
          "ename": "",
          "evalue": "",
          "output_type": "error",
          "traceback": [
            "\u001b[1;31mRunning cells with 'bayesian42' requires the ipykernel package.\n",
            "\u001b[1;31mRun the following command to install 'ipykernel' into the Python environment. \n",
            "\u001b[1;31mCommand: 'conda install -n bayesian42 ipykernel --update-deps --force-reinstall'"
          ]
        }
      ],
      "source": [
        "const_bnn_prior_parameters = {\n",
        "        \"prior_mu\": 0.0,\n",
        "        \"prior_sigma\": 1.0,\n",
        "        \"posterior_mu_init\": 0.0,\n",
        "        \"posterior_rho_init\": -3.0,\n",
        "        \"type\": \"Flipout\",  # Flipout or Reparameterization\n",
        "        \"moped_enable\": True,  # True to initialize mu/sigma from the pretrained dnn weights\n",
        "        \"moped_delta\": 0.5,\n",
        "}\n",
        "    \n",
        "model = models.resnet18(weights='DEFAULT')\n",
        "\n",
        "# Here we set the fully connected layer to match our number of classes\n",
        "model.fc = nn.Linear(model.fc.in_features, total_classes)\n",
        "\n",
        "dnn_to_bnn(model, const_bnn_prior_parameters) # Convert to Flipout model\n",
        "\n",
        "# for param in model.parameters():\n",
        "#     param.requires_grad = False\n",
        "\n",
        "# for param in model.fc.parameters():\n",
        "#     param.requires_grad = True\n",
        "\n",
        "device = torch.device(\"cuda\" if torch.cuda.is_available() else \"cpu\")\n",
        "model.to(device)"
      ]
    },
    {
      "cell_type": "markdown",
      "metadata": {
        "id": "KSeEYoKGu3gU"
      },
      "source": [
        "## Train Model\n",
        "\n",
        "We are using an Adam optimizer here and CrossEntropyLoss(), which combines the effect of Softmax and NLLLoss(). This simplier implementation will require an additional step in inference of adding Softmax back in."
      ]
    },
    {
      "cell_type": "code",
      "execution_count": null,
      "metadata": {
        "id": "kiLBVEomGnnZ"
      },
      "outputs": [
        {
          "ename": "",
          "evalue": "",
          "output_type": "error",
          "traceback": [
            "\u001b[1;31mRunning cells with 'bayesian42' requires the ipykernel package.\n",
            "\u001b[1;31mRun the following command to install 'ipykernel' into the Python environment. \n",
            "\u001b[1;31mCommand: 'conda install -n bayesian42 ipykernel --update-deps --force-reinstall'"
          ]
        }
      ],
      "source": [
        "optimizer = torch.optim.Adam(model.parameters(), lr=lr)\n",
        "criterion = torch.nn.CrossEntropyLoss()\n",
        "metrics = {'train': Accuracy(task='multiclass', num_classes=total_classes).to(device),\n",
        "           'val': Accuracy(task='multiclass', num_classes=total_classes).to(device),\n",
        "           'test': Accuracy(task='multiclass', num_classes=total_classes).to(device),\n",
        "           'short': 'acc',\n",
        "           'name': 'Accuracy'}"
      ]
    },
    {
      "cell_type": "code",
      "execution_count": null,
      "metadata": {
        "colab": {
          "base_uri": "https://localhost:8080/"
        },
        "id": "0IJnu84VLwdI",
        "outputId": "ab8471c9-5590-4c29-fd9b-7e204091cbc0"
      },
      "outputs": [
        {
          "ename": "",
          "evalue": "",
          "output_type": "error",
          "traceback": [
            "\u001b[1;31mRunning cells with 'bayesian42' requires the ipykernel package.\n",
            "\u001b[1;31mRun the following command to install 'ipykernel' into the Python environment. \n",
            "\u001b[1;31mCommand: 'conda install -n bayesian42 ipykernel --update-deps --force-reinstall'"
          ]
        }
      ],
      "source": [
        "model_path = '/content/drive/MyDrive/ml_projects/cifar_no_planes/resnet18.pth'\n",
        "\n",
        "# if os.path.exists(model_path):\n",
        "#     model.load_state_dict(torch.load(model_path))\n",
        "\n",
        "results = train(model = model, \n",
        "                        dataloads = dataloads, \n",
        "                        criterion = criterion, \n",
        "                        optimizer = optimizer, \n",
        "                        metrics = metrics,\n",
        "                        epochs = 50, \n",
        "                        val_patience = 10, \n",
        "                        model_path = model_path,\n",
        "                        bayesian = True)"
      ]
    },
    {
      "cell_type": "code",
      "execution_count": null,
      "metadata": {
        "colab": {
          "base_uri": "https://localhost:8080/",
          "height": 313
        },
        "id": "ljVCopuYERaw",
        "outputId": "62b756cd-70c2-4d8c-db7e-762bd5852472"
      },
      "outputs": [
        {
          "ename": "",
          "evalue": "",
          "output_type": "error",
          "traceback": [
            "\u001b[1;31mRunning cells with 'bayesian42' requires the ipykernel package.\n",
            "\u001b[1;31mRun the following command to install 'ipykernel' into the Python environment. \n",
            "\u001b[1;31mCommand: 'conda install -n bayesian42 ipykernel --update-deps --force-reinstall'"
          ]
        }
      ],
      "source": [
        "# Plot learning curves \n",
        "fig = plt.figure(layout='constrained')\n",
        "fig.suptitle(f'Learning Curves')\n",
        "learning_curves(results, fig, metrics)\n",
        "plt.show()"
      ]
    },
    {
      "cell_type": "markdown",
      "metadata": {
        "id": "udZwUWnnoP7z"
      },
      "source": [
        "## Model Evaluation\n",
        "\n",
        "For Bayesian models, there are several facets to consider. \n",
        "- NLL (without KL divergence)\n",
        "- Calibrated Uncertainy\n",
        "- Uncertainty Quantification\n",
        "- Individual Image Analysis"
      ]
    },
    {
      "cell_type": "markdown",
      "metadata": {
        "id": "J7i9HV_dpAkA"
      },
      "source": [
        "### Make MC Inferences\n",
        "\n",
        "With a deterministic model, we will get the same outputs every time we run inference. Bayesian models have a distribution instead of a single value for each weight. Each inference samples from that distribution, producing different results each time. This is paramount for bayesian models as it allows analysis of the variance and entropy of the samples. Here we apply 25 different inferences to model the distribution of the weights over the output of the model. More is always better, but can be computationally expensive."
      ]
    },
    {
      "cell_type": "code",
      "execution_count": null,
      "metadata": {
        "colab": {
          "base_uri": "https://localhost:8080/"
        },
        "id": "Li0f96cb7oXJ",
        "outputId": "870127e4-bb97-43d5-ca21-dd7b54639f41"
      },
      "outputs": [
        {
          "ename": "",
          "evalue": "",
          "output_type": "error",
          "traceback": [
            "\u001b[1;31mRunning cells with 'bayesian42' requires the ipykernel package.\n",
            "\u001b[1;31mRun the following command to install 'ipykernel' into the Python environment. \n",
            "\u001b[1;31mCommand: 'conda install -n bayesian42 ipykernel --update-deps --force-reinstall'"
          ]
        }
      ],
      "source": [
        "num_mc_inferences = 25\n",
        "y_preds = torch.zeros(num_mc_inferences,len(dataloads['test'].dataset),total_classes)\n",
        "for i in range(num_mc_inferences):\n",
        "    y_preds[i,:,:] = evaluate(model, dataloads['test'], criterion, metrics)\n",
        "\n",
        "y_true = torch.nn.functional.one_hot(torch.tensor(test_ds.targets),num_classes=total_classes)"
      ]
    },
    {
      "cell_type": "code",
      "execution_count": null,
      "metadata": {
        "id": "xcOy3FnpNvv8"
      },
      "outputs": [
        {
          "ename": "",
          "evalue": "",
          "output_type": "error",
          "traceback": [
            "\u001b[1;31mRunning cells with 'bayesian42' requires the ipykernel package.\n",
            "\u001b[1;31mRun the following command to install 'ipykernel' into the Python environment. \n",
            "\u001b[1;31mCommand: 'conda install -n bayesian42 ipykernel --update-deps --force-reinstall'"
          ]
        }
      ],
      "source": [
        "stats = uncertainty_quantification(y_preds)"
      ]
    },
    {
      "cell_type": "markdown",
      "metadata": {
        "id": "qqqrk82bpwth"
      },
      "source": [
        "### Aleatoric and Epistemic Uncertainty\n",
        "\n",
        "Aleatoric uncertainty is the uncertainty inherent to the model or problem. It cannot be reduced further without changing the model architecture or transforming the data before sending it through the model. Epistemic uncertainty is uncertainty that is a result of the insufficient training data. If a model is unfamiliar with a particular type of data (like say an airplane), the epistemic uncertainty will be high and can be reduced by adding more images of planes to the training set. \n",
        "\n",
        "For this problem, the images of planes have no more inherent noise than the rest of the images, so I would expect comparable aleatoric uncertainty, but high epistemic uncertainty. \n",
        "\n",
        "This methodology works best with highly accurate models. The decomposition of uncertainty is not perfect; there is an epistemic component to aleatoric uncertainty. Being able to drive down aleatoric with a high performing model makes the differences more starck."
      ]
    },
    {
      "cell_type": "code",
      "execution_count": null,
      "metadata": {
        "colab": {
          "base_uri": "https://localhost:8080/"
        },
        "id": "rbCEWwnN1F03",
        "outputId": "90f9e0e1-2b0a-47a0-942a-02250d7a03bc"
      },
      "outputs": [
        {
          "ename": "",
          "evalue": "",
          "output_type": "error",
          "traceback": [
            "\u001b[1;31mRunning cells with 'bayesian42' requires the ipykernel package.\n",
            "\u001b[1;31mRun the following command to install 'ipykernel' into the Python environment. \n",
            "\u001b[1;31mCommand: 'conda install -n bayesian42 ipykernel --update-deps --force-reinstall'"
          ]
        }
      ],
      "source": [
        "# Isolate the excluded class for specific analysis\n",
        "exclude_id = [test_ds.class_to_idx[cls] for cls in exclude_list]\n",
        "\n",
        "exclude_idx = np.where(np.isin(test_ds.targets, exclude_id))\n",
        "include_idx = np.where(np.isin(test_ds.targets, exclude_id, invert=True))\n",
        "\n",
        "aleatoric_include = np.delete(stats['aleatoric'], exclude_idx)\n",
        "aleatoric_exclude = np.delete(stats['aleatoric'], include_idx)\n",
        "epistemic_include = np.delete(stats['epistemic'], exclude_idx)\n",
        "epistemic_exclude = np.delete(stats['epistemic'], include_idx)\n",
        "\n",
        "# The mean over the samples is a poor metric - each sample is unique and requires specific analysis,\n",
        "# but this gives a starting point to understanding the benefits of bayesian networks\n",
        "print(f'Aleatoric Include: {np.mean(aleatoric_include):.4f}')\n",
        "print(f'Aleatoric Exclude: {np.mean(aleatoric_exclude):.4f}')\n",
        "print(f'Epistemic Include: {np.mean(epistemic_include):.4f}')\n",
        "print(f'Epistemic Exclude: {np.mean(epistemic_exclude):.4f}')"
      ]
    },
    {
      "cell_type": "markdown",
      "metadata": {
        "id": "s6LLiYe2qgsV"
      },
      "source": [
        "## Visualizing Model Predictions\n",
        "\n",
        "Let's start by visualizing some of the images and our predictions."
      ]
    },
    {
      "cell_type": "code",
      "execution_count": null,
      "metadata": {
        "colab": {
          "base_uri": "https://localhost:8080/",
          "height": 627
        },
        "id": "oXGejQ_mQHiu",
        "outputId": "cd978d82-bad9-4a9a-ecae-14d3d51f25fb"
      },
      "outputs": [
        {
          "ename": "",
          "evalue": "",
          "output_type": "error",
          "traceback": [
            "\u001b[1;31mRunning cells with 'bayesian42' requires the ipykernel package.\n",
            "\u001b[1;31mRun the following command to install 'ipykernel' into the Python environment. \n",
            "\u001b[1;31mCommand: 'conda install -n bayesian42 ipykernel --update-deps --force-reinstall'"
          ]
        }
      ],
      "source": [
        "fig, axes = plt.subplots(3,4, figsize=(10,10))\n",
        "for i, ax in enumerate(axes.ravel()):\n",
        "    img, true_class = test_ds[i]\n",
        "    true_class = classes[true_class]\n",
        "    pred_id = stats['max_pred'][i]\n",
        "    pred_class = classes[pred_id]\n",
        "    name = f'{pred_class}\\n({true_class})'\n",
        "    imshow(img, ax, name)\n",
        "    ax.axis('off')\n",
        "    \n",
        "fig.suptitle('Predicted Images')\n",
        "fig.subplots_adjust(top=0.88)\n",
        "plt.show()"
      ]
    },
    {
      "cell_type": "markdown",
      "metadata": {
        "id": "L-UdTrHKqrMF"
      },
      "source": [
        "Here we start reviewing the logits from our MC Inferences with each image and its classification. The more constrained each class is, the more confident the model is in its prediction. If there is lots of variance in a class or more than one class has high logit outputs, then thats an indication that the model isn't sure what the image actually is."
      ]
    },
    {
      "cell_type": "code",
      "execution_count": null,
      "metadata": {
        "colab": {
          "base_uri": "https://localhost:8080/",
          "height": 726
        },
        "id": "FbqnHR-4RqAi",
        "outputId": "1eb156a5-ac30-4378-db93-45043f354792"
      },
      "outputs": [
        {
          "ename": "",
          "evalue": "",
          "output_type": "error",
          "traceback": [
            "\u001b[1;31mRunning cells with 'bayesian42' requires the ipykernel package.\n",
            "\u001b[1;31mRun the following command to install 'ipykernel' into the Python environment. \n",
            "\u001b[1;31mCommand: 'conda install -n bayesian42 ipykernel --update-deps --force-reinstall'"
          ]
        }
      ],
      "source": [
        "fig, axes = plt.subplots(4,4, figsize=(20,10))\n",
        "x = np.repeat(test_ds.classes,num_mc_inferences)\n",
        "i = 100\n",
        "for j, axs in enumerate(axes.ravel()):\n",
        "    if j % 2 == 0:\n",
        "        logits = y_preds[:,i,:].numpy()\n",
        "        max_pred = np.argmax(np.mean(logits, axis=0))\n",
        "        img, true_class = test_ds[i]\n",
        "        true_class = classes[true_class]\n",
        "        pred_class = classes[max_pred]\n",
        "        name = f'{pred_class}\\n({true_class})'\n",
        "        imshow(img, axs, name)\n",
        "        axs.axis('off')\n",
        "    else:\n",
        "        axs.scatter(x=x, y=logits.T.flatten())\n",
        "        axs.tick_params(axis='x',labelrotation=45)\n",
        "        i += 1\n",
        "plt.xticks(ha='right')\n",
        "fig.suptitle('Predicted Images')\n",
        "plt.tight_layout()\n",
        "plt.show()"
      ]
    },
    {
      "cell_type": "markdown",
      "metadata": {
        "id": "ZxhFnEGRrEiw"
      },
      "source": [
        "This is the same plot as above, but only looking at the excluded class. I would expect a high degree of uncertainty here; I want the model to self-report that it doesn't know what to do."
      ]
    },
    {
      "cell_type": "code",
      "execution_count": null,
      "metadata": {
        "colab": {
          "base_uri": "https://localhost:8080/",
          "height": 726
        },
        "id": "3bVHaIzId8d2",
        "outputId": "82dace8f-5afe-4c92-9b6e-a74e780de8db"
      },
      "outputs": [
        {
          "ename": "",
          "evalue": "",
          "output_type": "error",
          "traceback": [
            "\u001b[1;31mRunning cells with 'bayesian42' requires the ipykernel package.\n",
            "\u001b[1;31mRun the following command to install 'ipykernel' into the Python environment. \n",
            "\u001b[1;31mCommand: 'conda install -n bayesian42 ipykernel --update-deps --force-reinstall'"
          ]
        }
      ],
      "source": [
        "fig, axes = plt.subplots(4,4, figsize=(20,10))\n",
        "x = np.repeat(classes,num_mc_inferences)\n",
        "y_pred_exclude = np.delete(y_preds, exclude_idx, axis=1)\n",
        "i = 100\n",
        "for j, axs in enumerate(axes.ravel()):\n",
        "    if j % 2 == 0:\n",
        "        logits = y_pred_exclude[:,i,:].numpy()\n",
        "        max_pred = np.argmax(np.mean(logits, axis=0))\n",
        "        pred_class = classes[max_pred]\n",
        "        # Get the image in the test dataset at index exclude_idx[0][i]\n",
        "        # We have to do [0] because its a one element tuple\n",
        "        img, true_class = test_ds[exclude_idx[0][i]]\n",
        "        true_class = classes[true_class]\n",
        "        name = f'Predict: {pred_class}\\n Actual: {true_class}'\n",
        "        imshow(img, axs, name)\n",
        "        axs.axis('off')\n",
        "    else:\n",
        "        axs.scatter(x=x, y=logits.T.flatten())\n",
        "        axs.tick_params(axis='x',labelrotation=45)\n",
        "        i += 1\n",
        "plt.xticks(ha='right')\n",
        "fig.suptitle('Predicted Images')\n",
        "plt.tight_layout()\n",
        "plt.show()"
      ]
    },
    {
      "cell_type": "code",
      "execution_count": null,
      "metadata": {
        "id": "sD9Z7W2QphEj"
      },
      "outputs": [
        {
          "ename": "",
          "evalue": "",
          "output_type": "error",
          "traceback": [
            "\u001b[1;31mRunning cells with 'bayesian42' requires the ipykernel package.\n",
            "\u001b[1;31mRun the following command to install 'ipykernel' into the Python environment. \n",
            "\u001b[1;31mCommand: 'conda install -n bayesian42 ipykernel --update-deps --force-reinstall'"
          ]
        }
      ],
      "source": []
    }
  ],
  "metadata": {
    "accelerator": "GPU",
    "colab": {
      "provenance": []
    },
    "gpuClass": "standard",
    "kernelspec": {
      "display_name": "pytorch",
      "language": "python",
      "name": "python3"
    },
    "language_info": {
      "codemirror_mode": {
        "name": "ipython",
        "version": 3
      },
      "file_extension": ".py",
      "mimetype": "text/x-python",
      "name": "python",
      "nbconvert_exporter": "python",
      "pygments_lexer": "ipython3",
      "version": "3.10.9"
    },
    "vscode": {
      "interpreter": {
        "hash": "9d07ada2db3a750ea7525ef0abae1dd8d2e024d709104a053d6ba9a14985ab36"
      }
    },
    "widgets": {
      "application/vnd.jupyter.widget-state+json": {
        "1d2c1436bc674608a01bf91120131a25": {
          "model_module": "@jupyter-widgets/controls",
          "model_module_version": "1.5.0",
          "model_name": "DescriptionStyleModel",
          "state": {
            "_model_module": "@jupyter-widgets/controls",
            "_model_module_version": "1.5.0",
            "_model_name": "DescriptionStyleModel",
            "_view_count": null,
            "_view_module": "@jupyter-widgets/base",
            "_view_module_version": "1.2.0",
            "_view_name": "StyleView",
            "description_width": ""
          }
        },
        "2069673efdd34f5aafec44bc69f28220": {
          "model_module": "@jupyter-widgets/base",
          "model_module_version": "1.2.0",
          "model_name": "LayoutModel",
          "state": {
            "_model_module": "@jupyter-widgets/base",
            "_model_module_version": "1.2.0",
            "_model_name": "LayoutModel",
            "_view_count": null,
            "_view_module": "@jupyter-widgets/base",
            "_view_module_version": "1.2.0",
            "_view_name": "LayoutView",
            "align_content": null,
            "align_items": null,
            "align_self": null,
            "border": null,
            "bottom": null,
            "display": null,
            "flex": null,
            "flex_flow": null,
            "grid_area": null,
            "grid_auto_columns": null,
            "grid_auto_flow": null,
            "grid_auto_rows": null,
            "grid_column": null,
            "grid_gap": null,
            "grid_row": null,
            "grid_template_areas": null,
            "grid_template_columns": null,
            "grid_template_rows": null,
            "height": null,
            "justify_content": null,
            "justify_items": null,
            "left": null,
            "margin": null,
            "max_height": null,
            "max_width": null,
            "min_height": null,
            "min_width": null,
            "object_fit": null,
            "object_position": null,
            "order": null,
            "overflow": null,
            "overflow_x": null,
            "overflow_y": null,
            "padding": null,
            "right": null,
            "top": null,
            "visibility": null,
            "width": null
          }
        },
        "2ea17891ce2449b7a7653337b222abcf": {
          "model_module": "@jupyter-widgets/controls",
          "model_module_version": "1.5.0",
          "model_name": "HTMLModel",
          "state": {
            "_dom_classes": [],
            "_model_module": "@jupyter-widgets/controls",
            "_model_module_version": "1.5.0",
            "_model_name": "HTMLModel",
            "_view_count": null,
            "_view_module": "@jupyter-widgets/controls",
            "_view_module_version": "1.5.0",
            "_view_name": "HTMLView",
            "description": "",
            "description_tooltip": null,
            "layout": "IPY_MODEL_cfea154951eb4d289d42fde84e5883ae",
            "placeholder": "​",
            "style": "IPY_MODEL_1d2c1436bc674608a01bf91120131a25",
            "value": "100%"
          }
        },
        "3ab5dd609a5745b1bf75efd766515ee9": {
          "model_module": "@jupyter-widgets/controls",
          "model_module_version": "1.5.0",
          "model_name": "DescriptionStyleModel",
          "state": {
            "_model_module": "@jupyter-widgets/controls",
            "_model_module_version": "1.5.0",
            "_model_name": "DescriptionStyleModel",
            "_view_count": null,
            "_view_module": "@jupyter-widgets/base",
            "_view_module_version": "1.2.0",
            "_view_name": "StyleView",
            "description_width": ""
          }
        },
        "403d6d0d06c6408581d854f61738a289": {
          "model_module": "@jupyter-widgets/controls",
          "model_module_version": "1.5.0",
          "model_name": "HBoxModel",
          "state": {
            "_dom_classes": [],
            "_model_module": "@jupyter-widgets/controls",
            "_model_module_version": "1.5.0",
            "_model_name": "HBoxModel",
            "_view_count": null,
            "_view_module": "@jupyter-widgets/controls",
            "_view_module_version": "1.5.0",
            "_view_name": "HBoxView",
            "box_style": "",
            "children": [
              "IPY_MODEL_2ea17891ce2449b7a7653337b222abcf",
              "IPY_MODEL_44037b9f0ae34f4ab6b49a7c97bcb6c0",
              "IPY_MODEL_47af57f9d16942148619ce4bb9760fc1"
            ],
            "layout": "IPY_MODEL_2069673efdd34f5aafec44bc69f28220"
          }
        },
        "44037b9f0ae34f4ab6b49a7c97bcb6c0": {
          "model_module": "@jupyter-widgets/controls",
          "model_module_version": "1.5.0",
          "model_name": "FloatProgressModel",
          "state": {
            "_dom_classes": [],
            "_model_module": "@jupyter-widgets/controls",
            "_model_module_version": "1.5.0",
            "_model_name": "FloatProgressModel",
            "_view_count": null,
            "_view_module": "@jupyter-widgets/controls",
            "_view_module_version": "1.5.0",
            "_view_name": "ProgressView",
            "bar_style": "success",
            "description": "",
            "description_tooltip": null,
            "layout": "IPY_MODEL_82f516fe3cba4fc4801d0dd658ae4c01",
            "max": 46830571,
            "min": 0,
            "orientation": "horizontal",
            "style": "IPY_MODEL_dc68e0e4d090441c8cdca334ab2c86bd",
            "value": 46830571
          }
        },
        "47af57f9d16942148619ce4bb9760fc1": {
          "model_module": "@jupyter-widgets/controls",
          "model_module_version": "1.5.0",
          "model_name": "HTMLModel",
          "state": {
            "_dom_classes": [],
            "_model_module": "@jupyter-widgets/controls",
            "_model_module_version": "1.5.0",
            "_model_name": "HTMLModel",
            "_view_count": null,
            "_view_module": "@jupyter-widgets/controls",
            "_view_module_version": "1.5.0",
            "_view_name": "HTMLView",
            "description": "",
            "description_tooltip": null,
            "layout": "IPY_MODEL_c30753aaa46c46cebb93799459b8f7ad",
            "placeholder": "​",
            "style": "IPY_MODEL_3ab5dd609a5745b1bf75efd766515ee9",
            "value": " 44.7M/44.7M [00:00&lt;00:00, 83.1MB/s]"
          }
        },
        "82f516fe3cba4fc4801d0dd658ae4c01": {
          "model_module": "@jupyter-widgets/base",
          "model_module_version": "1.2.0",
          "model_name": "LayoutModel",
          "state": {
            "_model_module": "@jupyter-widgets/base",
            "_model_module_version": "1.2.0",
            "_model_name": "LayoutModel",
            "_view_count": null,
            "_view_module": "@jupyter-widgets/base",
            "_view_module_version": "1.2.0",
            "_view_name": "LayoutView",
            "align_content": null,
            "align_items": null,
            "align_self": null,
            "border": null,
            "bottom": null,
            "display": null,
            "flex": null,
            "flex_flow": null,
            "grid_area": null,
            "grid_auto_columns": null,
            "grid_auto_flow": null,
            "grid_auto_rows": null,
            "grid_column": null,
            "grid_gap": null,
            "grid_row": null,
            "grid_template_areas": null,
            "grid_template_columns": null,
            "grid_template_rows": null,
            "height": null,
            "justify_content": null,
            "justify_items": null,
            "left": null,
            "margin": null,
            "max_height": null,
            "max_width": null,
            "min_height": null,
            "min_width": null,
            "object_fit": null,
            "object_position": null,
            "order": null,
            "overflow": null,
            "overflow_x": null,
            "overflow_y": null,
            "padding": null,
            "right": null,
            "top": null,
            "visibility": null,
            "width": null
          }
        },
        "c30753aaa46c46cebb93799459b8f7ad": {
          "model_module": "@jupyter-widgets/base",
          "model_module_version": "1.2.0",
          "model_name": "LayoutModel",
          "state": {
            "_model_module": "@jupyter-widgets/base",
            "_model_module_version": "1.2.0",
            "_model_name": "LayoutModel",
            "_view_count": null,
            "_view_module": "@jupyter-widgets/base",
            "_view_module_version": "1.2.0",
            "_view_name": "LayoutView",
            "align_content": null,
            "align_items": null,
            "align_self": null,
            "border": null,
            "bottom": null,
            "display": null,
            "flex": null,
            "flex_flow": null,
            "grid_area": null,
            "grid_auto_columns": null,
            "grid_auto_flow": null,
            "grid_auto_rows": null,
            "grid_column": null,
            "grid_gap": null,
            "grid_row": null,
            "grid_template_areas": null,
            "grid_template_columns": null,
            "grid_template_rows": null,
            "height": null,
            "justify_content": null,
            "justify_items": null,
            "left": null,
            "margin": null,
            "max_height": null,
            "max_width": null,
            "min_height": null,
            "min_width": null,
            "object_fit": null,
            "object_position": null,
            "order": null,
            "overflow": null,
            "overflow_x": null,
            "overflow_y": null,
            "padding": null,
            "right": null,
            "top": null,
            "visibility": null,
            "width": null
          }
        },
        "cfea154951eb4d289d42fde84e5883ae": {
          "model_module": "@jupyter-widgets/base",
          "model_module_version": "1.2.0",
          "model_name": "LayoutModel",
          "state": {
            "_model_module": "@jupyter-widgets/base",
            "_model_module_version": "1.2.0",
            "_model_name": "LayoutModel",
            "_view_count": null,
            "_view_module": "@jupyter-widgets/base",
            "_view_module_version": "1.2.0",
            "_view_name": "LayoutView",
            "align_content": null,
            "align_items": null,
            "align_self": null,
            "border": null,
            "bottom": null,
            "display": null,
            "flex": null,
            "flex_flow": null,
            "grid_area": null,
            "grid_auto_columns": null,
            "grid_auto_flow": null,
            "grid_auto_rows": null,
            "grid_column": null,
            "grid_gap": null,
            "grid_row": null,
            "grid_template_areas": null,
            "grid_template_columns": null,
            "grid_template_rows": null,
            "height": null,
            "justify_content": null,
            "justify_items": null,
            "left": null,
            "margin": null,
            "max_height": null,
            "max_width": null,
            "min_height": null,
            "min_width": null,
            "object_fit": null,
            "object_position": null,
            "order": null,
            "overflow": null,
            "overflow_x": null,
            "overflow_y": null,
            "padding": null,
            "right": null,
            "top": null,
            "visibility": null,
            "width": null
          }
        },
        "dc68e0e4d090441c8cdca334ab2c86bd": {
          "model_module": "@jupyter-widgets/controls",
          "model_module_version": "1.5.0",
          "model_name": "ProgressStyleModel",
          "state": {
            "_model_module": "@jupyter-widgets/controls",
            "_model_module_version": "1.5.0",
            "_model_name": "ProgressStyleModel",
            "_view_count": null,
            "_view_module": "@jupyter-widgets/base",
            "_view_module_version": "1.2.0",
            "_view_name": "StyleView",
            "bar_color": null,
            "description_width": ""
          }
        }
      }
    }
  },
  "nbformat": 4,
  "nbformat_minor": 0
}
